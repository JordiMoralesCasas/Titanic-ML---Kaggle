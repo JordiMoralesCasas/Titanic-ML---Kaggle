{
 "cells": [
  {
   "cell_type": "markdown",
   "id": "21dbfad2",
   "metadata": {},
   "source": [
    "### Titanic - Machine Learning from Disaster\n",
    "\n",
    "https://www.kaggle.com/competitions/titanic/data"
   ]
  },
  {
   "cell_type": "code",
   "execution_count": 102,
   "id": "c75f3186",
   "metadata": {},
   "outputs": [],
   "source": [
    "import torch \n",
    "import pandas as pd\n",
    "import numpy as np\n",
    "import seaborn as sns\n",
    "\n",
    "from sklearn.preprocessing import OneHotEncoder\n",
    "from sklearn.preprocessing import OrdinalEncoder\n",
    "from sklearn.preprocessing import LabelBinarizer"
   ]
  },
  {
   "cell_type": "code",
   "execution_count": 103,
   "id": "0f7cdd23",
   "metadata": {},
   "outputs": [
    {
     "data": {
      "text/plain": [
       "(891, 418)"
      ]
     },
     "execution_count": 103,
     "metadata": {},
     "output_type": "execute_result"
    }
   ],
   "source": [
    "trainData = pd.read_csv(\"Data/train.csv\")\n",
    "testData = pd.read_csv(\"Data/test.csv\")\n",
    "len(trainData), len(testData)"
   ]
  },
  {
   "cell_type": "code",
   "execution_count": 104,
   "id": "ba451558",
   "metadata": {},
   "outputs": [
    {
     "data": {
      "text/html": [
       "<div>\n",
       "<style scoped>\n",
       "    .dataframe tbody tr th:only-of-type {\n",
       "        vertical-align: middle;\n",
       "    }\n",
       "\n",
       "    .dataframe tbody tr th {\n",
       "        vertical-align: top;\n",
       "    }\n",
       "\n",
       "    .dataframe thead th {\n",
       "        text-align: right;\n",
       "    }\n",
       "</style>\n",
       "<table border=\"1\" class=\"dataframe\">\n",
       "  <thead>\n",
       "    <tr style=\"text-align: right;\">\n",
       "      <th></th>\n",
       "      <th>PassengerId</th>\n",
       "      <th>Survived</th>\n",
       "      <th>Pclass</th>\n",
       "      <th>Name</th>\n",
       "      <th>Sex</th>\n",
       "      <th>Age</th>\n",
       "      <th>SibSp</th>\n",
       "      <th>Parch</th>\n",
       "      <th>Ticket</th>\n",
       "      <th>Fare</th>\n",
       "      <th>Cabin</th>\n",
       "      <th>Embarked</th>\n",
       "      <th>is_train</th>\n",
       "    </tr>\n",
       "  </thead>\n",
       "  <tbody>\n",
       "    <tr>\n",
       "      <th>0</th>\n",
       "      <td>1</td>\n",
       "      <td>0.0</td>\n",
       "      <td>3</td>\n",
       "      <td>Braund, Mr. Owen Harris</td>\n",
       "      <td>male</td>\n",
       "      <td>22.0</td>\n",
       "      <td>1</td>\n",
       "      <td>0</td>\n",
       "      <td>A/5 21171</td>\n",
       "      <td>7.2500</td>\n",
       "      <td>NaN</td>\n",
       "      <td>S</td>\n",
       "      <td>1</td>\n",
       "    </tr>\n",
       "    <tr>\n",
       "      <th>1</th>\n",
       "      <td>2</td>\n",
       "      <td>1.0</td>\n",
       "      <td>1</td>\n",
       "      <td>Cumings, Mrs. John Bradley (Florence Briggs Th...</td>\n",
       "      <td>female</td>\n",
       "      <td>38.0</td>\n",
       "      <td>1</td>\n",
       "      <td>0</td>\n",
       "      <td>PC 17599</td>\n",
       "      <td>71.2833</td>\n",
       "      <td>C85</td>\n",
       "      <td>C</td>\n",
       "      <td>1</td>\n",
       "    </tr>\n",
       "    <tr>\n",
       "      <th>2</th>\n",
       "      <td>3</td>\n",
       "      <td>1.0</td>\n",
       "      <td>3</td>\n",
       "      <td>Heikkinen, Miss. Laina</td>\n",
       "      <td>female</td>\n",
       "      <td>26.0</td>\n",
       "      <td>0</td>\n",
       "      <td>0</td>\n",
       "      <td>STON/O2. 3101282</td>\n",
       "      <td>7.9250</td>\n",
       "      <td>NaN</td>\n",
       "      <td>S</td>\n",
       "      <td>1</td>\n",
       "    </tr>\n",
       "    <tr>\n",
       "      <th>3</th>\n",
       "      <td>4</td>\n",
       "      <td>1.0</td>\n",
       "      <td>1</td>\n",
       "      <td>Futrelle, Mrs. Jacques Heath (Lily May Peel)</td>\n",
       "      <td>female</td>\n",
       "      <td>35.0</td>\n",
       "      <td>1</td>\n",
       "      <td>0</td>\n",
       "      <td>113803</td>\n",
       "      <td>53.1000</td>\n",
       "      <td>C123</td>\n",
       "      <td>S</td>\n",
       "      <td>1</td>\n",
       "    </tr>\n",
       "    <tr>\n",
       "      <th>4</th>\n",
       "      <td>5</td>\n",
       "      <td>0.0</td>\n",
       "      <td>3</td>\n",
       "      <td>Allen, Mr. William Henry</td>\n",
       "      <td>male</td>\n",
       "      <td>35.0</td>\n",
       "      <td>0</td>\n",
       "      <td>0</td>\n",
       "      <td>373450</td>\n",
       "      <td>8.0500</td>\n",
       "      <td>NaN</td>\n",
       "      <td>S</td>\n",
       "      <td>1</td>\n",
       "    </tr>\n",
       "    <tr>\n",
       "      <th>...</th>\n",
       "      <td>...</td>\n",
       "      <td>...</td>\n",
       "      <td>...</td>\n",
       "      <td>...</td>\n",
       "      <td>...</td>\n",
       "      <td>...</td>\n",
       "      <td>...</td>\n",
       "      <td>...</td>\n",
       "      <td>...</td>\n",
       "      <td>...</td>\n",
       "      <td>...</td>\n",
       "      <td>...</td>\n",
       "      <td>...</td>\n",
       "    </tr>\n",
       "    <tr>\n",
       "      <th>1304</th>\n",
       "      <td>1305</td>\n",
       "      <td>NaN</td>\n",
       "      <td>3</td>\n",
       "      <td>Spector, Mr. Woolf</td>\n",
       "      <td>male</td>\n",
       "      <td>NaN</td>\n",
       "      <td>0</td>\n",
       "      <td>0</td>\n",
       "      <td>A.5. 3236</td>\n",
       "      <td>8.0500</td>\n",
       "      <td>NaN</td>\n",
       "      <td>S</td>\n",
       "      <td>0</td>\n",
       "    </tr>\n",
       "    <tr>\n",
       "      <th>1305</th>\n",
       "      <td>1306</td>\n",
       "      <td>NaN</td>\n",
       "      <td>1</td>\n",
       "      <td>Oliva y Ocana, Dona. Fermina</td>\n",
       "      <td>female</td>\n",
       "      <td>39.0</td>\n",
       "      <td>0</td>\n",
       "      <td>0</td>\n",
       "      <td>PC 17758</td>\n",
       "      <td>108.9000</td>\n",
       "      <td>C105</td>\n",
       "      <td>C</td>\n",
       "      <td>0</td>\n",
       "    </tr>\n",
       "    <tr>\n",
       "      <th>1306</th>\n",
       "      <td>1307</td>\n",
       "      <td>NaN</td>\n",
       "      <td>3</td>\n",
       "      <td>Saether, Mr. Simon Sivertsen</td>\n",
       "      <td>male</td>\n",
       "      <td>38.5</td>\n",
       "      <td>0</td>\n",
       "      <td>0</td>\n",
       "      <td>SOTON/O.Q. 3101262</td>\n",
       "      <td>7.2500</td>\n",
       "      <td>NaN</td>\n",
       "      <td>S</td>\n",
       "      <td>0</td>\n",
       "    </tr>\n",
       "    <tr>\n",
       "      <th>1307</th>\n",
       "      <td>1308</td>\n",
       "      <td>NaN</td>\n",
       "      <td>3</td>\n",
       "      <td>Ware, Mr. Frederick</td>\n",
       "      <td>male</td>\n",
       "      <td>NaN</td>\n",
       "      <td>0</td>\n",
       "      <td>0</td>\n",
       "      <td>359309</td>\n",
       "      <td>8.0500</td>\n",
       "      <td>NaN</td>\n",
       "      <td>S</td>\n",
       "      <td>0</td>\n",
       "    </tr>\n",
       "    <tr>\n",
       "      <th>1308</th>\n",
       "      <td>1309</td>\n",
       "      <td>NaN</td>\n",
       "      <td>3</td>\n",
       "      <td>Peter, Master. Michael J</td>\n",
       "      <td>male</td>\n",
       "      <td>NaN</td>\n",
       "      <td>1</td>\n",
       "      <td>1</td>\n",
       "      <td>2668</td>\n",
       "      <td>22.3583</td>\n",
       "      <td>NaN</td>\n",
       "      <td>C</td>\n",
       "      <td>0</td>\n",
       "    </tr>\n",
       "  </tbody>\n",
       "</table>\n",
       "<p>1309 rows × 13 columns</p>\n",
       "</div>"
      ],
      "text/plain": [
       "      PassengerId  Survived  Pclass  \\\n",
       "0               1       0.0       3   \n",
       "1               2       1.0       1   \n",
       "2               3       1.0       3   \n",
       "3               4       1.0       1   \n",
       "4               5       0.0       3   \n",
       "...           ...       ...     ...   \n",
       "1304         1305       NaN       3   \n",
       "1305         1306       NaN       1   \n",
       "1306         1307       NaN       3   \n",
       "1307         1308       NaN       3   \n",
       "1308         1309       NaN       3   \n",
       "\n",
       "                                                   Name     Sex   Age  SibSp  \\\n",
       "0                               Braund, Mr. Owen Harris    male  22.0      1   \n",
       "1     Cumings, Mrs. John Bradley (Florence Briggs Th...  female  38.0      1   \n",
       "2                                Heikkinen, Miss. Laina  female  26.0      0   \n",
       "3          Futrelle, Mrs. Jacques Heath (Lily May Peel)  female  35.0      1   \n",
       "4                              Allen, Mr. William Henry    male  35.0      0   \n",
       "...                                                 ...     ...   ...    ...   \n",
       "1304                                 Spector, Mr. Woolf    male   NaN      0   \n",
       "1305                       Oliva y Ocana, Dona. Fermina  female  39.0      0   \n",
       "1306                       Saether, Mr. Simon Sivertsen    male  38.5      0   \n",
       "1307                                Ware, Mr. Frederick    male   NaN      0   \n",
       "1308                           Peter, Master. Michael J    male   NaN      1   \n",
       "\n",
       "      Parch              Ticket      Fare Cabin Embarked  is_train  \n",
       "0         0           A/5 21171    7.2500   NaN        S         1  \n",
       "1         0            PC 17599   71.2833   C85        C         1  \n",
       "2         0    STON/O2. 3101282    7.9250   NaN        S         1  \n",
       "3         0              113803   53.1000  C123        S         1  \n",
       "4         0              373450    8.0500   NaN        S         1  \n",
       "...     ...                 ...       ...   ...      ...       ...  \n",
       "1304      0           A.5. 3236    8.0500   NaN        S         0  \n",
       "1305      0            PC 17758  108.9000  C105        C         0  \n",
       "1306      0  SOTON/O.Q. 3101262    7.2500   NaN        S         0  \n",
       "1307      0              359309    8.0500   NaN        S         0  \n",
       "1308      1                2668   22.3583   NaN        C         0  \n",
       "\n",
       "[1309 rows x 13 columns]"
      ]
     },
     "execution_count": 104,
     "metadata": {},
     "output_type": "execute_result"
    }
   ],
   "source": [
    "# Join both datasets in order to perform preprocessing\n",
    "trainData[\"is_train\"] = 1\n",
    "testData[\"is_train\"] = 0\n",
    "\n",
    "data = trainData.append(testData, ignore_index=True); data"
   ]
  },
  {
   "cell_type": "markdown",
   "id": "92102453",
   "metadata": {},
   "source": [
    "#### Dropping Useless variables"
   ]
  },
  {
   "cell_type": "code",
   "execution_count": 105,
   "id": "48333ac6",
   "metadata": {},
   "outputs": [],
   "source": [
    "data = data.drop(\"Name\", axis=1)"
   ]
  },
  {
   "cell_type": "markdown",
   "id": "c5007e79",
   "metadata": {},
   "source": [
    "#### Treat the rows with na/null values:"
   ]
  },
  {
   "cell_type": "code",
   "execution_count": 106,
   "id": "a1b31019",
   "metadata": {},
   "outputs": [
    {
     "name": "stdout",
     "output_type": "stream",
     "text": [
      "PassengerId       0\n",
      "Survived        418\n",
      "Pclass            0\n",
      "Sex               0\n",
      "Age             263\n",
      "SibSp             0\n",
      "Parch             0\n",
      "Ticket            0\n",
      "Fare              1\n",
      "Cabin          1014\n",
      "Embarked          2\n",
      "is_train          0\n",
      "dtype: int64\n"
     ]
    }
   ],
   "source": [
    "print(data.isna().sum())"
   ]
  },
  {
   "cell_type": "code",
   "execution_count": 107,
   "id": "b8184192",
   "metadata": {},
   "outputs": [
    {
     "name": "stdout",
     "output_type": "stream",
     "text": [
      "Age 'NA/Total' rate:  0.20091673032849502\n"
     ]
    }
   ],
   "source": [
    "# NA values for \"Age\"\n",
    "print(\"Age 'NA/Total' rate: \", data[\"Age\"].isna().sum() / len(data))"
   ]
  },
  {
   "cell_type": "code",
   "execution_count": 108,
   "id": "d405f87c",
   "metadata": {},
   "outputs": [],
   "source": [
    "data[\"Age\"] = data[\"Age\"].fillna(data[\"Age\"].mean())"
   ]
  },
  {
   "cell_type": "code",
   "execution_count": 109,
   "id": "c64d9335",
   "metadata": {},
   "outputs": [
    {
     "name": "stdout",
     "output_type": "stream",
     "text": [
      "Cabin 'NA/Total' rate:  0.774637127578304\n"
     ]
    }
   ],
   "source": [
    "print(\"Cabin 'NA/Total' rate: \", data[\"Cabin\"].isna().sum() / len(data))"
   ]
  },
  {
   "cell_type": "code",
   "execution_count": 110,
   "id": "92dbcb2b",
   "metadata": {
    "scrolled": false
   },
   "outputs": [],
   "source": [
    "# Since most of the values for \"Cabin\" are unknown, we can omit this column\n",
    "data = data.drop(\"Cabin\", axis=1)"
   ]
  },
  {
   "cell_type": "code",
   "execution_count": 111,
   "id": "9aebe937",
   "metadata": {
    "scrolled": true
   },
   "outputs": [],
   "source": [
    "# Fullfilling Fare values with mean\n",
    "data[\"Fare\"] = data[\"Fare\"].fillna(data[\"Fare\"].mean())"
   ]
  },
  {
   "cell_type": "code",
   "execution_count": 112,
   "id": "e3a19feb",
   "metadata": {},
   "outputs": [],
   "source": [
    "# Since the unknown \"Embarked\" values are from the test set, we can't its rows. Instead, we fulfill them with the most\n",
    "#  common class\n",
    "data[\"Embarked\"] = data[\"Embarked\"].replace(to_replace=np.nan,\n",
    "                         value=data[\"Embarked\"].value_counts(sort=True).index[0]);"
   ]
  },
  {
   "cell_type": "markdown",
   "id": "7c7f6bc3",
   "metadata": {},
   "source": [
    "#### First look into the data"
   ]
  },
  {
   "cell_type": "code",
   "execution_count": 113,
   "id": "e89a42f4",
   "metadata": {},
   "outputs": [
    {
     "data": {
      "text/plain": [
       "'correlations = Full_dataset_standard.corr()\\nbest_atributes_by_corr = abs(correlations[\"status\"]).sort_values(ascending=False).index[1:16]\\ncorrelations = correlations[best_atributes_by_corr].transpose()\\n\\n\\nplt.figure()\\nax = sns.heatmap(pd.DataFrame(correlations[\"status\"]), annot=True, linewidths=.5)'"
      ]
     },
     "execution_count": 113,
     "metadata": {},
     "output_type": "execute_result"
    }
   ],
   "source": [
    "\"\"\"correlations = Full_dataset_standard.corr()\n",
    "best_atributes_by_corr = abs(correlations[\"status\"]).sort_values(ascending=False).index[1:16]\n",
    "correlations = correlations[best_atributes_by_corr].transpose()\n",
    "\n",
    "\n",
    "plt.figure()\n",
    "ax = sns.heatmap(pd.DataFrame(correlations[\"status\"]), annot=True, linewidths=.5)\"\"\""
   ]
  },
  {
   "cell_type": "markdown",
   "id": "8054eba2",
   "metadata": {},
   "source": [
    "####  Encode categorical attributes"
   ]
  },
  {
   "cell_type": "code",
   "execution_count": 114,
   "id": "9ed0e086",
   "metadata": {},
   "outputs": [],
   "source": [
    "# Dropping Ticket column (categorical but with mostly unique values)\n",
    "data = data.drop(\"Ticket\", axis=1);"
   ]
  },
  {
   "cell_type": "code",
   "execution_count": 115,
   "id": "06047828",
   "metadata": {},
   "outputs": [],
   "source": [
    "# Label Binarizer for Ticket the 3 different ticket types\n",
    "labBin = LabelBinarizer()\n",
    "embarked_lab = pd.DataFrame(labBin.fit_transform(data[\"Embarked\"]),\n",
    "                           columns = [\"Port_of_\" + i for i in labBin.classes_],\n",
    "                           index=data.index)\n",
    "data = data.join(embarked_lab).drop(\"Embarked\", axis=1)"
   ]
  },
  {
   "cell_type": "code",
   "execution_count": 116,
   "id": "468de274",
   "metadata": {},
   "outputs": [],
   "source": [
    "# Binarizing the genre attribute\n",
    "data[\"Sex\"] = data[\"Sex\"].replace(\"male\", 0)\n",
    "data[\"Sex\"] = data[\"Sex\"].replace(\"female\", 1)"
   ]
  },
  {
   "cell_type": "markdown",
   "id": "4de86891",
   "metadata": {},
   "source": [
    "#### Split dataset, create DataLoaders"
   ]
  },
  {
   "cell_type": "code",
   "execution_count": 132,
   "id": "3d95ad4a",
   "metadata": {},
   "outputs": [],
   "source": [
    "trainData = data[data[\"is_train\"] == 1].drop(\"is_train\", axis=1)\n",
    "testData = data[data[\"is_train\"] == 0].drop([\"is_train\", \"Survived\"], axis=1).reset_index()"
   ]
  },
  {
   "cell_type": "code",
   "execution_count": 133,
   "id": "01f80e1d",
   "metadata": {
    "scrolled": false
   },
   "outputs": [
    {
     "name": "stdout",
     "output_type": "stream",
     "text": [
      "<class 'pandas.core.frame.DataFrame'>\n",
      "Int64Index: 891 entries, 0 to 890\n",
      "Data columns (total 11 columns):\n",
      " #   Column       Non-Null Count  Dtype  \n",
      "---  ------       --------------  -----  \n",
      " 0   PassengerId  891 non-null    int64  \n",
      " 1   Survived     891 non-null    float64\n",
      " 2   Pclass       891 non-null    int64  \n",
      " 3   Sex          891 non-null    int64  \n",
      " 4   Age          891 non-null    float64\n",
      " 5   SibSp        891 non-null    int64  \n",
      " 6   Parch        891 non-null    int64  \n",
      " 7   Fare         891 non-null    float64\n",
      " 8   Port_of_C    891 non-null    int32  \n",
      " 9   Port_of_Q    891 non-null    int32  \n",
      " 10  Port_of_S    891 non-null    int32  \n",
      "dtypes: float64(3), int32(3), int64(5)\n",
      "memory usage: 73.1 KB\n",
      "<class 'pandas.core.frame.DataFrame'>\n",
      "RangeIndex: 418 entries, 0 to 417\n",
      "Data columns (total 11 columns):\n",
      " #   Column       Non-Null Count  Dtype  \n",
      "---  ------       --------------  -----  \n",
      " 0   index        418 non-null    int64  \n",
      " 1   PassengerId  418 non-null    int64  \n",
      " 2   Pclass       418 non-null    int64  \n",
      " 3   Sex          418 non-null    int64  \n",
      " 4   Age          418 non-null    float64\n",
      " 5   SibSp        418 non-null    int64  \n",
      " 6   Parch        418 non-null    int64  \n",
      " 7   Fare         418 non-null    float64\n",
      " 8   Port_of_C    418 non-null    int32  \n",
      " 9   Port_of_Q    418 non-null    int32  \n",
      " 10  Port_of_S    418 non-null    int32  \n",
      "dtypes: float64(2), int32(3), int64(6)\n",
      "memory usage: 31.1 KB\n"
     ]
    },
    {
     "data": {
      "text/plain": [
       "(None, None)"
      ]
     },
     "execution_count": 133,
     "metadata": {},
     "output_type": "execute_result"
    }
   ],
   "source": [
    "trainData.info(), testData.info()"
   ]
  }
 ],
 "metadata": {
  "kernelspec": {
   "display_name": "Python 3",
   "language": "python",
   "name": "python3"
  },
  "language_info": {
   "codemirror_mode": {
    "name": "ipython",
    "version": 3
   },
   "file_extension": ".py",
   "mimetype": "text/x-python",
   "name": "python",
   "nbconvert_exporter": "python",
   "pygments_lexer": "ipython3",
   "version": "3.8.8"
  }
 },
 "nbformat": 4,
 "nbformat_minor": 5
}
